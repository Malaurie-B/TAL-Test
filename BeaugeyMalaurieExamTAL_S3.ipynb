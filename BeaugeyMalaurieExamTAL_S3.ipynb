{
  "nbformat": 4,
  "nbformat_minor": 0,
  "metadata": {
    "colab": {
      "name": "BeaugeyMalaurieExamTAL-S3.ipynb",
      "provenance": []
    },
    "kernelspec": {
      "name": "python3",
      "display_name": "Python 3"
    }
  },
  "cells": [
    {
      "cell_type": "markdown",
      "metadata": {
        "id": "8x7VuFu_T8Gf"
      },
      "source": [
        "#Examen module TAL et programmation S3 - 2020\n",
        "\n",
        "\n",
        "---\n",
        "Vous copiez ce document dans votre drive, le renommez selon la convention : NomPrenomExamTAL-S3\n",
        "\n",
        "Nom : Beaugey\n",
        "\n",
        "Prénom : Malaurie\n",
        "\n",
        "---\n",
        "A la fin de ce TD, vous partagez votre production à l'adresse reymondiut@gmail.com\n",
        "\n",
        "## Sujet\n",
        "### Contexte\n",
        "> Vous réalisez un programme qui prend en entrée un texte pour produire le traitement proposé ci-dessous à l'aide des outils TAL (librairie spacy) vus en TD (je vous laisse choisir votre œuvre sur gutemberg.org, dans la langue de votre choix - FR ou EN ou ES me paraissent raisonnable). Vérifiez que vous disposez bien des modèles spacy si vous en choisissez une autre).\n",
        "### Objectifs du traitement\n",
        "Le but du programme sera de retrouver les contextes (considérés comme la phrase) d'un ensemble de verbes (à l'infinitif, les verbes sont passés en paramètres d'une fonction). Il s'agit alors dans ce contexte d'en extraire les noms et adjectifs sous leur forme lemmatisée pour les passer (tous) à une visualisation de type nuages de mots-clés.\n",
        "L'identification des phrases de contexte se fera indépendamment de la conjugaison des verbes que les phrases contiennent (i.e. l'identification d'un contexte se fait à partir de la forme lemmatisée du texte). \n",
        "\n",
        "### Tips:\n",
        "Dans un objet spacy nommé doc (par ex.), \n",
        "\n",
        "```\n",
        "# Ce texte est au format code\n",
        "for phrase in doc.sents:\n",
        "  print (phrase) # phrase est une phrase du document\n",
        "  for mot in phrase.words:\n",
        "    print (mot.lemma_) # les lemmes des mots de la phrase\n",
        "```\n",
        "\n",
        "\n",
        "---\n",
        "\n",
        "\n",
        "## Votre programme (décomposé en sous parties)\n",
        "> Vous devez commenter vos différentes lignes de code. Sans tomber dans l'excès. Chaque partie ci-après correspond à un découpage minimaliste des différentes étapes pour la réalisation. Vous remplirez les différentes cellules destinées au code. \n",
        "\n",
        "> La notation de votre travail est fonction du degré de difficulté de chaque cellule, tiendra compte de vos commentaires et de la justesse des termes employés, et bien sûr du degré d'accomplissement de votre réalisation.\n",
        "\n"
      ]
    },
    {
      "cell_type": "markdown",
      "metadata": {
        "id": "p4pjVhsJZVL2"
      },
      "source": [
        "\n",
        "### Chargement des librairies"
      ]
    },
    {
      "cell_type": "code",
      "metadata": {
        "id": "brlSmslTZh0G"
      },
      "source": [
        "!pip install -U spacy"
      ],
      "execution_count": null,
      "outputs": []
    },
    {
      "cell_type": "code",
      "metadata": {
        "id": "ed4rMxT8iCfE"
      },
      "source": [
        "!python -m spacy download en_core_web_sm"
      ],
      "execution_count": null,
      "outputs": []
    },
    {
      "cell_type": "code",
      "metadata": {
        "id": "EivHLM1jiFPH"
      },
      "source": [
        "from collections import Counter\n",
        "import os\n",
        "from os import path\n",
        "import spacy\n",
        "import en_core_web_sm\n",
        "tal = spacy.load('en_core_web_sm', disable=[\"ner\"])"
      ],
      "execution_count": null,
      "outputs": []
    },
    {
      "cell_type": "markdown",
      "metadata": {
        "id": "hlytOCJ8jOGB"
      },
      "source": [
        "*installations de spacy et des modèles nécessaires au fonctionnement du programme*"
      ]
    },
    {
      "cell_type": "markdown",
      "metadata": {
        "id": "58LKVnQBilk9"
      },
      "source": [
        "**⬇︎ installations pour la création du nuage de mots**"
      ]
    },
    {
      "cell_type": "code",
      "metadata": {
        "id": "yuBlfJodifJk"
      },
      "source": [
        "!pip install multidict\n",
        "%matplotlib inline"
      ],
      "execution_count": null,
      "outputs": []
    },
    {
      "cell_type": "code",
      "metadata": {
        "id": "QESGHuV5iiTE"
      },
      "source": [
        "from PIL import Image\n",
        "from wordcloud import WordCloud\n",
        "import matplotlib.pyplot as plt"
      ],
      "execution_count": null,
      "outputs": []
    },
    {
      "cell_type": "markdown",
      "metadata": {
        "id": "lx1VvHtrird7"
      },
      "source": [
        "**⬇︎ ouverture du drive**"
      ]
    },
    {
      "cell_type": "code",
      "metadata": {
        "id": "ZMnzAD_qisZR",
        "colab": {
          "base_uri": "https://localhost:8080/"
        },
        "outputId": "a6d883f5-1419-4c34-a28b-3f6f34a9b4e4"
      },
      "source": [
        "from google.colab import drive\n",
        "drive.mount('/content/drive')"
      ],
      "execution_count": null,
      "outputs": [
        {
          "output_type": "stream",
          "text": [
            "Mounted at /content/drive\n"
          ],
          "name": "stdout"
        }
      ]
    },
    {
      "cell_type": "markdown",
      "metadata": {
        "id": "MCIRc1eSZkVd"
      },
      "source": [
        "### Ouverture en lecture et mise en mémoire du fichier à traiter"
      ]
    },
    {
      "cell_type": "code",
      "metadata": {
        "id": "IBUJRjMMiwQh"
      },
      "source": [
        "with open(path.join('/content/drive/My Drive/M2/doriangray.txt'), 'r') as fic:\n",
        "  text = fic.read()"
      ],
      "execution_count": null,
      "outputs": []
    },
    {
      "cell_type": "markdown",
      "metadata": {
        "id": "iV4HpjkYZqGl"
      },
      "source": [
        "### Application du modèle TAL"
      ]
    },
    {
      "cell_type": "code",
      "metadata": {
        "id": "Jm4hsqZoZvkd"
      },
      "source": [
        "tal.max_length = len(text)+1000"
      ],
      "execution_count": null,
      "outputs": []
    },
    {
      "cell_type": "code",
      "metadata": {
        "id": "kJIoIwQsq-rE"
      },
      "source": [
        "#ici on cherche à extraire des verbes à l'infinitif et à découper les phrases du texte\n",
        "def getVerbs(phrase, ListeExtraction):\n",
        "  doc = tal(phrase)\n",
        "  for phrase in doc.sents:                          #découpage des phrases du texte\n",
        "    VerbesAExtraire = [mot.lemma_ for mot in doc if mot.pos_ == \"VERB\" and mot.text \\\n",
        "                       not in ListeExtraction and mot.lemma not in ListeExtraction]\n",
        "  tempo = Counter(VerbesAExtraire)\n",
        "  return tempo"
      ],
      "execution_count": null,
      "outputs": []
    },
    {
      "cell_type": "code",
      "metadata": {
        "id": "_FTVKZSm0EL6"
      },
      "source": [
        "ListeExtraction = [\"see\", \"say\", \"know\"]            #liste des verbes à extraire"
      ],
      "execution_count": null,
      "outputs": []
    },
    {
      "cell_type": "code",
      "metadata": {
        "id": "vtkYrNVL1Nnh",
        "colab": {
          "base_uri": "https://localhost:8080/",
          "height": 164
        },
        "outputId": "e50d8b5b-9490-4f1a-bf34-1c213d347701"
      },
      "source": [
        "print(getVerbs(phrase, ListeExtraction))"
      ],
      "execution_count": null,
      "outputs": [
        {
          "output_type": "error",
          "ename": "NameError",
          "evalue": "ignored",
          "traceback": [
            "\u001b[0;31m---------------------------------------------------------------------------\u001b[0m",
            "\u001b[0;31mNameError\u001b[0m                                 Traceback (most recent call last)",
            "\u001b[0;32m<ipython-input-42-98fff56f8d0c>\u001b[0m in \u001b[0;36m<module>\u001b[0;34m()\u001b[0m\n\u001b[0;32m----> 1\u001b[0;31m \u001b[0mprint\u001b[0m\u001b[0;34m(\u001b[0m\u001b[0mgetVerbs\u001b[0m\u001b[0;34m(\u001b[0m\u001b[0mphrase\u001b[0m\u001b[0;34m,\u001b[0m \u001b[0mListeExtraction\u001b[0m\u001b[0;34m)\u001b[0m\u001b[0;34m)\u001b[0m\u001b[0;34m\u001b[0m\u001b[0;34m\u001b[0m\u001b[0m\n\u001b[0m",
            "\u001b[0;31mNameError\u001b[0m: name 'phrase' is not defined"
          ]
        }
      ]
    },
    {
      "cell_type": "markdown",
      "metadata": {
        "id": "4JDzhrtUZxI1"
      },
      "source": [
        "### Fonction d'extraction des noms et adjectifs par phrase"
      ]
    },
    {
      "cell_type": "code",
      "metadata": {
        "id": "q2R_0kJQY7Sq"
      },
      "source": [
        "def ExtractionNouns(phrase):                      #définition de la fonction d'extraction des noms\n",
        "  doc = tal(phrase)\n",
        "  MotAtraiter = [mot.lemma_ for mot in doc if mot.pos_ == \"NOUN\"]\n",
        "  tempo = Counter (MotAtraiter)\n",
        "  return tempo"
      ],
      "execution_count": null,
      "outputs": []
    },
    {
      "cell_type": "code",
      "metadata": {
        "id": "nckc8Qrmpk9F"
      },
      "source": [
        "def ExtractionAdj(phrase):                       #définition de la fonction d'extraction des adjectifs\n",
        "  doc = tal(phrase)\n",
        "  MotAtraiter2 = [mot.lemma_ for mot in doc if mot.pos_ == \"ADJ\"]\n",
        "  tempo = Counter (MotAtraiter2)\n",
        "  return tempo"
      ],
      "execution_count": null,
      "outputs": []
    },
    {
      "cell_type": "code",
      "metadata": {
        "id": "2s_kNmp7lIjk"
      },
      "source": [
        "AdjNounExtract = (ExtractionNouns, ExtractionAdj)"
      ],
      "execution_count": null,
      "outputs": []
    },
    {
      "cell_type": "code",
      "metadata": {
        "id": "vHKAEWmt6k2J",
        "colab": {
          "base_uri": "https://localhost:8080/"
        },
        "outputId": "6209d781-6aeb-4298-dcb0-56eec32de9bb"
      },
      "source": [
        "print(AdjNounExtract)"
      ],
      "execution_count": null,
      "outputs": [
        {
          "output_type": "stream",
          "text": [
            "(<function ExtractionNouns at 0x7f48245d3ae8>, <function ExtractionAdj at 0x7f482455d510>)\n"
          ],
          "name": "stdout"
        }
      ]
    },
    {
      "cell_type": "markdown",
      "metadata": {
        "id": "htGRdb5lZ7nm"
      },
      "source": [
        "### Application et visualisation"
      ]
    },
    {
      "cell_type": "code",
      "metadata": {
        "id": "rN56G-HoZ4VF"
      },
      "source": [
        "def makeImage(text):            #définition de la fonction makeImage qui renvoie un nuage de mots\n",
        "  wc = WordCloud(background_color=\"black\", max_words=1000) #, mask=doriangray_mask)\n",
        "  # generate word cloud\n",
        "  wc.generate_from_frequencies(text)\n",
        "\n",
        "  # show\n",
        "  plt.imshow(wc, interpolation=\"bilinear\")\n",
        "  plt.axis(\"off\")\n",
        "  plt.show()"
      ],
      "execution_count": null,
      "outputs": []
    },
    {
      "cell_type": "code",
      "metadata": {
        "id": "R_eO_wG020YN"
      },
      "source": [
        "makeImage()"
      ],
      "execution_count": null,
      "outputs": []
    },
    {
      "cell_type": "markdown",
      "metadata": {
        "id": "hMzStMZRbplE"
      },
      "source": [
        "## Commentaire critique"
      ]
    },
    {
      "cell_type": "markdown",
      "metadata": {
        "id": "jVYwNCr9cAqU"
      },
      "source": [
        "> Bien que mon code ne fonctionne pas, il y a de l'idée !\n",
        "Vous pouvez d'ailleurs voir qu'il y a des différences avec le code du devoir rendu hier (j'ai essayé)."
      ]
    },
    {
      "cell_type": "markdown",
      "metadata": {
        "id": "XgJM1OdsAfSP"
      },
      "source": [
        "# Appréciation\n",
        "Oui il y a de l'idée. Et il ne manquait pas grand chose :\n",
        "dans la fonction getVerb, même si elle fonctionnait, elle ne te renverrait que des verbes et leurs occurrences (chose que tu pouvais obtenir plus facilement d'une autre façon). En regard des fonctions implémentées par la suite, il aurait plutôt fallu une fonction qui renvoit des phrases (extraites du texte) qui contiennent au moins un des verbes de la liste en paramètre.\n",
        "\n",
        "Par ex:\n",
        "\n"
      ]
    },
    {
      "cell_type": "code",
      "metadata": {
        "id": "YhYsEMc_CRtc"
      },
      "source": [
        "def getPhrases(texte, ListeExtraction):\n",
        "  doc = tal(texte)\n",
        "  result = []\n",
        "  for phrase in doc.sents:\n",
        "    sentences = [phrase for mot in phrase if mot.pos_ ==\"VERB\" if mot.lemma_ in EnsembledeVerbe] \n",
        "    if len(sentences)>0:\n",
        "      result.append(list(set(sentences)))\n",
        "  return result # attention le résultat est de la fome [['phrase1'],[phrase2], ... ]\n"
      ],
      "execution_count": null,
      "outputs": []
    },
    {
      "cell_type": "markdown",
      "metadata": {
        "id": "9KySyJpA61oo"
      },
      "source": [
        "Note : 14/20\n"
      ]
    }
  ]
}